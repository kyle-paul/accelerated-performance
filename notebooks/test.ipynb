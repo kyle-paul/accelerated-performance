{
 "cells": [
  {
   "cell_type": "code",
   "execution_count": 4,
   "metadata": {},
   "outputs": [
    {
     "name": "stderr",
     "output_type": "stream",
     "text": [
      "C:\\Users\\Admin\\AppData\\Local\\Temp\\ipykernel_2156\\3181150029.py:5: UserWarning: 'has_mkldnn' is deprecated, please use 'torch.backends.mkldnn.is_available()'\n",
      "  if torch.has_mkldnn and mkldnn_utils.is_available():\n"
     ]
    },
    {
     "ename": "AttributeError",
     "evalue": "module 'torch.utils.mkldnn' has no attribute 'is_available'",
     "output_type": "error",
     "traceback": [
      "\u001b[1;31m---------------------------------------------------------------------------\u001b[0m",
      "\u001b[1;31mAttributeError\u001b[0m                            Traceback (most recent call last)",
      "Cell \u001b[1;32mIn[4], line 5\u001b[0m\n\u001b[0;32m      2\u001b[0m \u001b[38;5;28;01mfrom\u001b[39;00m \u001b[38;5;21;01mtorch\u001b[39;00m\u001b[38;5;21;01m.\u001b[39;00m\u001b[38;5;21;01mutils\u001b[39;00m \u001b[38;5;28;01mimport\u001b[39;00m mkldnn \u001b[38;5;28;01mas\u001b[39;00m mkldnn_utils\n\u001b[0;32m      4\u001b[0m \u001b[38;5;66;03m# Check if bfloat16 is supported\u001b[39;00m\n\u001b[1;32m----> 5\u001b[0m \u001b[38;5;28;01mif\u001b[39;00m torch\u001b[38;5;241m.\u001b[39mhas_mkldnn \u001b[38;5;129;01mand\u001b[39;00m \u001b[43mmkldnn_utils\u001b[49m\u001b[38;5;241;43m.\u001b[39;49m\u001b[43mis_available\u001b[49m():\n\u001b[0;32m      6\u001b[0m     \u001b[38;5;28;01mif\u001b[39;00m mkldnn_utils\u001b[38;5;241m.\u001b[39msupports_bf16():\n\u001b[0;32m      7\u001b[0m         \u001b[38;5;28mprint\u001b[39m(\u001b[38;5;124m\"\u001b[39m\u001b[38;5;124mCPU supports bfloat16\u001b[39m\u001b[38;5;124m\"\u001b[39m)\n",
      "\u001b[1;31mAttributeError\u001b[0m: module 'torch.utils.mkldnn' has no attribute 'is_available'"
     ]
    }
   ],
   "source": [
    "import torch\n",
    "from torch.utils import mkldnn as mkldnn_utils\n",
    "\n",
    "# Check if bfloat16 is supported\n",
    "if torch.has_mkldnn and mkldnn_utils.is_available():\n",
    "    if mkldnn_utils.supports_bf16():\n",
    "        print(\"CPU supports bfloat16\")\n",
    "    else:\n",
    "        print(\"CPU does NOT support bfloat16\")\n",
    "else:\n",
    "    print(\"MKLDNN is not available\")\n"
   ]
  }
 ],
 "metadata": {
  "kernelspec": {
   "display_name": "tor",
   "language": "python",
   "name": "python3"
  },
  "language_info": {
   "codemirror_mode": {
    "name": "ipython",
    "version": 3
   },
   "file_extension": ".py",
   "mimetype": "text/x-python",
   "name": "python",
   "nbconvert_exporter": "python",
   "pygments_lexer": "ipython3",
   "version": "3.9.19"
  }
 },
 "nbformat": 4,
 "nbformat_minor": 2
}
