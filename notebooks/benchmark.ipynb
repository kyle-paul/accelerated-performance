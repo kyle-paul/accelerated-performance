{
 "cells": [
  {
   "cell_type": "code",
   "execution_count": null,
   "metadata": {},
   "outputs": [],
   "source": [
    "%cd \"../\""
   ]
  },
  {
   "cell_type": "code",
   "execution_count": 2,
   "metadata": {},
   "outputs": [],
   "source": [
    "import onnxruntime as ort\n",
    "\n",
    "import torch\n",
    "import numpy as np\n",
    "\n",
    "import matplotlib.pyplot as plt\n",
    "from scipy.ndimage import zoom"
   ]
  },
  {
   "cell_type": "markdown",
   "metadata": {},
   "source": [
    "### UNet++"
   ]
  },
  {
   "cell_type": "markdown",
   "metadata": {},
   "source": [
    "#### ONNX Runtime"
   ]
  },
  {
   "cell_type": "code",
   "execution_count": 3,
   "metadata": {},
   "outputs": [],
   "source": [
    "# Input and preprocessing\n",
    "image = np.load('samples/0001_0170.npy')\n",
    "img_size = 128\n",
    "x, y = image.shape\n",
    "if x != img_size and y != img_size:\n",
    "    inputs = zoom(image, (img_size / x, img_size / y), order=0)\n",
    "    \n",
    "inputs = inputs[np.newaxis, np.newaxis, :, :]\n",
    "\n",
    "# Initialize model\n",
    "provider = ['CUDAExecutionProvider', 'CPUExecutionProvider']\n",
    "ort_session = ort.InferenceSession(\"OnnxModels/onnx_model2.onnx\", providers=provider)\n",
    "\n",
    "# Warmup step\n",
    "inp = {ort_session.get_inputs()[0].name: inputs}\n",
    "out = ort_session.run(None, inp)\n",
    "out = np.argmax(out[0], axis=1)"
   ]
  },
  {
   "cell_type": "code",
   "execution_count": 4,
   "metadata": {},
   "outputs": [
    {
     "name": "stdout",
     "output_type": "stream",
     "text": [
      "5.27 ms ± 36.6 µs per loop (mean ± std. dev. of 7 runs, 100 loops each)\n"
     ]
    }
   ],
   "source": [
    "%%timeit\n",
    "inp = {ort_session.get_inputs()[0].name: inputs}\n",
    "out = ort_session.run(None, inp)"
   ]
  },
  {
   "cell_type": "markdown",
   "metadata": {},
   "source": [
    "### Pytorch runtime"
   ]
  },
  {
   "cell_type": "code",
   "execution_count": 5,
   "metadata": {},
   "outputs": [],
   "source": [
    "# Input and preprocessing\n",
    "image = np.load('samples/0001_0170.npy')\n",
    "img_size = 128\n",
    "x, y = image.shape\n",
    "if x != img_size and y != img_size:\n",
    "    inputs = zoom(image, (img_size / x, img_size / y), order=0)\n",
    "    \n",
    "inputs = torch.tensor(inputs).unsqueeze(0).unsqueeze(0).cuda()\n",
    "\n",
    "# Intialize model\n",
    "model = torch.load(\"TorchModels/model1.pth\").cuda()\n",
    "model.eval()\n",
    "model = model.cuda()\n",
    "model = torch.compile(model, backend=\"eager\")\n",
    "\n",
    "# Warmup step\n",
    "with torch.inference_mode():\n",
    "    output = model(inputs)"
   ]
  },
  {
   "cell_type": "code",
   "execution_count": 6,
   "metadata": {},
   "outputs": [
    {
     "name": "stdout",
     "output_type": "stream",
     "text": [
      "5.82 ms ± 1.05 ms per loop (mean ± std. dev. of 7 runs, 100 loops each)\n"
     ]
    }
   ],
   "source": [
    "%%timeit\n",
    "with torch.inference_mode():\n",
    "    output = model(inputs)"
   ]
  },
  {
   "cell_type": "markdown",
   "metadata": {},
   "source": [
    "## RotCAtt-TransUNet-plusplus"
   ]
  },
  {
   "cell_type": "markdown",
   "metadata": {},
   "source": [
    "### ONNX Runtime"
   ]
  },
  {
   "cell_type": "code",
   "execution_count": 3,
   "metadata": {},
   "outputs": [],
   "source": [
    "# Input and preprocessing\n",
    "img_size = 128\n",
    "vol = []\n",
    "for index in range(167, 174, 1):\n",
    "    slice = np.load(f'samples/0001_{index:04d}.npy')\n",
    "    x, y = slice.shape\n",
    "    if x != img_size and y != img_size:\n",
    "        slice = zoom(slice, (img_size / x, img_size / y), order=0)\n",
    "    vol.append(slice)\n",
    "\n",
    "inputs = np.array(vol)[:, np.newaxis, :, :]\n",
    "\n",
    "# Initialize model\n",
    "provider = ['CUDAExecutionProvider', 'CPUExecutionProvider']\n",
    "ort_session = ort.InferenceSession(\"OnnxModels/onnx_model4.onnx\", providers=provider)\n",
    "\n",
    "# Warmup step\n",
    "inp = {ort_session.get_inputs()[0].name: inputs}\n",
    "out = ort_session.run(None, inp)"
   ]
  },
  {
   "cell_type": "code",
   "execution_count": 4,
   "metadata": {},
   "outputs": [
    {
     "name": "stdout",
     "output_type": "stream",
     "text": [
      "37.7 ms ± 2.54 ms per loop (mean ± std. dev. of 7 runs, 10 loops each)\n"
     ]
    }
   ],
   "source": [
    "%%timeit\n",
    "out = ort_session.run(None, inp)"
   ]
  },
  {
   "cell_type": "markdown",
   "metadata": {},
   "source": [
    "### Pytorch runtime"
   ]
  },
  {
   "cell_type": "markdown",
   "metadata": {},
   "source": [
    "### GPU"
   ]
  },
  {
   "cell_type": "code",
   "execution_count": 5,
   "metadata": {},
   "outputs": [],
   "source": [
    "# Input and preprocessing\n",
    "img_size = 128\n",
    "vol = []\n",
    "for index in range(167, 174, 1):\n",
    "    slice = np.load(f'samples/0001_{index:04d}.npy')\n",
    "    x, y = slice.shape\n",
    "    if x != img_size and y != img_size:\n",
    "        slice = zoom(slice, (img_size / x, img_size / y), order=0)\n",
    "    vol.append(slice)\n",
    "\n",
    "vol = np.array(vol)\n",
    "inputs = torch.tensor(vol).unsqueeze(1).cuda()\n",
    "\n",
    "\n",
    "# Intialize model\n",
    "model = torch.load(\"TorchModels/model2.pth\").cuda()\n",
    "model.eval()\n",
    "model = model.cuda()\n",
    "model = torch.compile(model, backend=\"eager\")\n",
    "\n",
    "# Warmup step\n",
    "with torch.inference_mode():\n",
    "    output = model(inputs)"
   ]
  },
  {
   "cell_type": "code",
   "execution_count": 6,
   "metadata": {},
   "outputs": [
    {
     "name": "stdout",
     "output_type": "stream",
     "text": [
      "86.5 ms ± 5.72 ms per loop (mean ± std. dev. of 7 runs, 10 loops each)\n"
     ]
    }
   ],
   "source": [
    "%%timeit\n",
    "with torch.inference_mode():\n",
    "    output = model(inputs)"
   ]
  },
  {
   "cell_type": "markdown",
   "metadata": {},
   "source": [
    "### CPU"
   ]
  },
  {
   "cell_type": "code",
   "execution_count": 5,
   "metadata": {},
   "outputs": [],
   "source": [
    "# Input and preprocessing\n",
    "img_size = 128\n",
    "vol = []\n",
    "for index in range(167, 174, 1):\n",
    "    slice = np.load(f'samples/0001_{index:04d}.npy')\n",
    "    x, y = slice.shape\n",
    "    if x != img_size and y != img_size:\n",
    "        slice = zoom(slice, (img_size / x, img_size / y), order=0)\n",
    "    vol.append(slice)\n",
    "\n",
    "vol = np.array(vol)\n",
    "inputs = torch.tensor(vol).unsqueeze(1)\n",
    "\n",
    "\n",
    "# Intialize model\n",
    "model = torch.load(\"TorchModels/model2.pth\").cuda()\n",
    "model.eval()\n",
    "model = model.cpu()\n",
    "model = torch.compile(model, backend=\"eager\")\n",
    "\n",
    "# Warmup step\n",
    "with torch.inference_mode():\n",
    "    output = model(inputs)"
   ]
  },
  {
   "cell_type": "code",
   "execution_count": 6,
   "metadata": {},
   "outputs": [
    {
     "name": "stdout",
     "output_type": "stream",
     "text": [
      "621 ms ± 10.4 ms per loop (mean ± std. dev. of 7 runs, 1 loop each)\n"
     ]
    }
   ],
   "source": [
    "%%timeit\n",
    "with torch.inference_mode():\n",
    "    output = model(inputs)"
   ]
  }
 ],
 "metadata": {
  "kernelspec": {
   "display_name": "tor",
   "language": "python",
   "name": "python3"
  },
  "language_info": {
   "codemirror_mode": {
    "name": "ipython",
    "version": 3
   },
   "file_extension": ".py",
   "mimetype": "text/x-python",
   "name": "python",
   "nbconvert_exporter": "python",
   "pygments_lexer": "ipython3",
   "version": "3.9.19"
  }
 },
 "nbformat": 4,
 "nbformat_minor": 2
}
