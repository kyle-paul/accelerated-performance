{
 "cells": [
  {
   "cell_type": "code",
   "execution_count": 1,
   "metadata": {},
   "outputs": [
    {
     "name": "stdout",
     "output_type": "stream",
     "text": [
      "d:\\Documents\\GitHub\\onnx\n"
     ]
    }
   ],
   "source": [
    "%cd \"../\""
   ]
  },
  {
   "cell_type": "code",
   "execution_count": 2,
   "metadata": {},
   "outputs": [],
   "source": [
    "import torch\n",
    "import onnxruntime as ort\n",
    "import matplotlib.pyplot as plt\n",
    "import numpy as np\n",
    "from scipy.ndimage import zoom\n",
    "from networks.UNet_plusplus.UNet_plusplus import UNet_plusplus\n",
    "from networks.RotCAtt.RotCAtt import RotCAtt\n",
    "from networks.RotCAtt.config import get_config"
   ]
  },
  {
   "cell_type": "markdown",
   "metadata": {},
   "source": [
    "### Convert"
   ]
  },
  {
   "cell_type": "code",
   "execution_count": 8,
   "metadata": {},
   "outputs": [],
   "source": [
    "model = torch.load(\"TorchModels/model1.pth\")\n",
    "input = torch.rand(3, 1, 128, 128).to(torch.float32).cuda()\n",
    "output = model(input)"
   ]
  },
  {
   "cell_type": "code",
   "execution_count": null,
   "metadata": {},
   "outputs": [],
   "source": [
    "model = RotCAtt(get_config()).cuda()\n",
    "input = torch.rand(3, 1, 128, 128).to(torch.float32).cuda()\n",
    "output = model(input)"
   ]
  },
  {
   "cell_type": "code",
   "execution_count": 5,
   "metadata": {},
   "outputs": [],
   "source": [
    "# convert\n",
    "torch.onnx.export(model, input, \"OnnxModels/onnx_model3.onnx\",\n",
    "                  input_names=[\"input\"], output_names=[\"output\"],\n",
    "                  dynamic_axes={\"input\": {0: \"batch_size\"}, \"output\": {0: \"batch_size\"}})"
   ]
  },
  {
   "cell_type": "markdown",
   "metadata": {},
   "source": [
    "### Inference"
   ]
  },
  {
   "cell_type": "code",
   "execution_count": 5,
   "metadata": {},
   "outputs": [
    {
     "name": "stdout",
     "output_type": "stream",
     "text": [
      "10.0.1\n"
     ]
    }
   ],
   "source": [
    "import tensorrt\n",
    "print(tensorrt.__version__)"
   ]
  },
  {
   "cell_type": "code",
   "execution_count": 6,
   "metadata": {},
   "outputs": [
    {
     "data": {
      "text/plain": [
       "'d:\\\\Admin\\\\anaconda3\\\\envs\\\\tor\\\\lib\\\\site-packages\\\\tensorrt\\\\__init__.py'"
      ]
     },
     "execution_count": 6,
     "metadata": {},
     "output_type": "execute_result"
    }
   ],
   "source": [
    "tensorrt.__file__"
   ]
  },
  {
   "cell_type": "code",
   "execution_count": null,
   "metadata": {},
   "outputs": [],
   "source": [
    "# Input and preprocessing\n",
    "image = np.load('samples/0001_0170.npy')\n",
    "img_size = 128\n",
    "x, y = image.shape\n",
    "if x != img_size and y != img_size:\n",
    "    inputs = zoom(image, (img_size / x, img_size / y), order=0)\n",
    "    \n",
    "inputs = inputs[np.newaxis,np.newaxis,:,:]\n",
    "\n",
    "# Inference\n",
    "providers = [\n",
    "    ('TensorrtExecutionProvider', {\n",
    "        'device_id': 0,                       # Select GPU to execute\n",
    "        'trt_max_workspace_size': 2147483648, # Set GPU memory usage limit\n",
    "        'trt_fp16_enable': True,              # Enable FP16 precision for faster inference  \n",
    "        'trt_engine_cache_enable': True,\n",
    "        'trt_engine_cache_path': 'Engine/onnx_model_sim_engine_2',\n",
    "        'trt_engine_hw_compatible' : True\n",
    "    }),\n",
    "    ('CUDAExecutionProvider', {\n",
    "        'device_id': 0,\n",
    "        'arena_extend_strategy': 'kNextPowerOfTwo',\n",
    "        'gpu_mem_limit': 2 * 1024 * 1024 * 1024,\n",
    "        'cudnn_conv_algo_search': 'EXHAUSTIVE',\n",
    "        'do_copy_in_default_stream': True,\n",
    "    })\n",
    "]\n",
    "\n",
    "ort_session = ort.InferenceSession(\"OnnxModels/onnx_model_sim2.onnx\", providers=providers)\n",
    "inp = {ort_session.get_inputs()[0].name: inputs}\n",
    "out = ort_session.run(None, inp)\n",
    "\n",
    "out = np.argmax(out[0], axis=1)\n",
    "plt.imshow(out[0])\n",
    "plt.show()"
   ]
  }
 ],
 "metadata": {
  "kernelspec": {
   "display_name": "tor",
   "language": "python",
   "name": "python3"
  },
  "language_info": {
   "codemirror_mode": {
    "name": "ipython",
    "version": 3
   },
   "file_extension": ".py",
   "mimetype": "text/x-python",
   "name": "python",
   "nbconvert_exporter": "python",
   "pygments_lexer": "ipython3",
   "version": "3.9.19"
  }
 },
 "nbformat": 4,
 "nbformat_minor": 2
}
