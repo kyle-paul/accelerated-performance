{
 "cells": [
  {
   "cell_type": "code",
   "execution_count": 1,
   "metadata": {},
   "outputs": [
    {
     "name": "stdout",
     "output_type": "stream",
     "text": [
      "d:\\Documents\\GitHub\\MY-REPO\\accelerated-performance\n"
     ]
    }
   ],
   "source": [
    "%cd \"../\""
   ]
  },
  {
   "cell_type": "code",
   "execution_count": 3,
   "metadata": {},
   "outputs": [],
   "source": [
    "import torch\n",
    "import openvino.torch\n",
    "\n",
    "\n",
    "model = torch.jit.load('ScriptedModels/unet_plusplus.pt')\n",
    "# model = model.cpu()\n",
    "model = torch.compile(\n",
    "    model, backend=\"openvino\", \n",
    "    options = {\n",
    "        \"device\" : \"GPU.0\", \n",
    "        \"model_caching\" : True, \n",
    "        \"cache_dir\": \"./model_cache\",\n",
    "        \"PERFORMANCE_HINT\" : \"LATENCY\"\n",
    "    })"
   ]
  },
  {
   "cell_type": "code",
   "execution_count": 5,
   "metadata": {},
   "outputs": [],
   "source": [
    "# warmup\n",
    "input = torch.randn(12, 1, 128, 128).cuda()\n",
    "out = model(input)"
   ]
  },
  {
   "cell_type": "code",
   "execution_count": 6,
   "metadata": {},
   "outputs": [
    {
     "name": "stdout",
     "output_type": "stream",
     "text": [
      "The slowest run took 35.20 times longer than the fastest. This could mean that an intermediate result is being cached.\n",
      "57.7 ms ± 68.2 ms per loop (mean ± std. dev. of 7 runs, 1 loop each)\n"
     ]
    }
   ],
   "source": [
    "%%timeit\n",
    "out = model(input)"
   ]
  },
  {
   "cell_type": "code",
   "execution_count": 5,
   "metadata": {},
   "outputs": [],
   "source": [
    "torch_model = torch.load('TorchModels/model1.pth')\n",
    "input = torch.randn(12, 1, 128, 128).cuda()\n",
    "output = torch_model(input)"
   ]
  },
  {
   "cell_type": "code",
   "execution_count": 6,
   "metadata": {},
   "outputs": [
    {
     "name": "stdout",
     "output_type": "stream",
     "text": [
      "57.8 ms ± 10.3 ms per loop (mean ± std. dev. of 7 runs, 10 loops each)\n"
     ]
    }
   ],
   "source": [
    "%%timeit\n",
    "output = torch_model(input)"
   ]
  }
 ],
 "metadata": {
  "kernelspec": {
   "display_name": "tor",
   "language": "python",
   "name": "python3"
  },
  "language_info": {
   "codemirror_mode": {
    "name": "ipython",
    "version": 3
   },
   "file_extension": ".py",
   "mimetype": "text/x-python",
   "name": "python",
   "nbconvert_exporter": "python",
   "pygments_lexer": "ipython3",
   "version": "3.9.19"
  }
 },
 "nbformat": 4,
 "nbformat_minor": 2
}
