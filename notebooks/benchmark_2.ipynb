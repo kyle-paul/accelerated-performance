{
 "cells": [
  {
   "cell_type": "code",
   "execution_count": null,
   "metadata": {},
   "outputs": [],
   "source": [
    "%cd \"../\"\n",
    "import torch\n",
    "import matplotlib.pyplot as plt\n",
    "from scipy.ndimage import zoom\n",
    "import numpy as np"
   ]
  },
  {
   "cell_type": "markdown",
   "metadata": {},
   "source": [
    "### Torch Quantization Benchmark - CPU"
   ]
  },
  {
   "cell_type": "markdown",
   "metadata": {},
   "source": [
    "#### Unquantized UNet++"
   ]
  },
  {
   "cell_type": "code",
   "execution_count": 12,
   "metadata": {},
   "outputs": [],
   "source": [
    "# Input and preprocessing\n",
    "img_size = 128\n",
    "vol = []\n",
    "for index in range(166, 178, 1):\n",
    "    slice = np.load(f'samples/0001_{index:04d}.npy')\n",
    "    x, y = slice.shape\n",
    "    if x != img_size and y != img_size:\n",
    "        slice = zoom(slice, (img_size / x, img_size / y), order=0)\n",
    "    vol.append(slice)\n",
    "\n",
    "vol = np.array(vol)\n",
    "inputs = torch.tensor(vol).unsqueeze(1).cpu()\n",
    "\n",
    "# Initialize model\n",
    "model = torch.load(\"TorchModels/model1.pth\").cpu()\n",
    "model.eval()\n",
    "model = torch.compile(model, backend=\"eager\")\n",
    "\n",
    "# Warmup step\n",
    "with torch.inference_mode():\n",
    "    output = model(inputs)"
   ]
  },
  {
   "cell_type": "code",
   "execution_count": 13,
   "metadata": {},
   "outputs": [
    {
     "name": "stdout",
     "output_type": "stream",
     "text": [
      "686 ms ± 9.32 ms per loop (mean ± std. dev. of 7 runs, 1 loop each)\n"
     ]
    }
   ],
   "source": [
    "%%timeit\n",
    "with torch.inference_mode():\n",
    "    output = model(inputs)"
   ]
  },
  {
   "cell_type": "markdown",
   "metadata": {},
   "source": [
    "#### Quantized UNet++"
   ]
  },
  {
   "cell_type": "code",
   "execution_count": 14,
   "metadata": {},
   "outputs": [],
   "source": [
    "# Input and preprocessing\n",
    "img_size = 128\n",
    "vol = []\n",
    "for index in range(166, 178, 1):\n",
    "    slice = np.load(f'samples/0001_{index:04d}.npy')\n",
    "    x, y = slice.shape\n",
    "    if x != img_size and y != img_size:\n",
    "        slice = zoom(slice, (img_size / x, img_size / y), order=0)\n",
    "    vol.append(slice)\n",
    "\n",
    "vol = np.array(vol)\n",
    "inputs = torch.tensor(vol).unsqueeze(1).cpu()\n",
    "\n",
    "# Initialize model\n",
    "model = torch.load(\"TorchModels/quantized_model1.pth\").cpu()\n",
    "model.eval()\n",
    "model = torch.compile(model, backend=\"eager\")\n",
    "\n",
    "# Warmup step\n",
    "with torch.inference_mode():\n",
    "    output = model(inputs)"
   ]
  },
  {
   "cell_type": "code",
   "execution_count": 15,
   "metadata": {},
   "outputs": [
    {
     "name": "stdout",
     "output_type": "stream",
     "text": [
      "696 ms ± 8.32 ms per loop (mean ± std. dev. of 7 runs, 1 loop each)\n"
     ]
    }
   ],
   "source": [
    "%%timeit\n",
    "with torch.inference_mode():\n",
    "    output = model(inputs)"
   ]
  }
 ],
 "metadata": {
  "kernelspec": {
   "display_name": "tor",
   "language": "python",
   "name": "python3"
  },
  "language_info": {
   "codemirror_mode": {
    "name": "ipython",
    "version": 3
   },
   "file_extension": ".py",
   "mimetype": "text/x-python",
   "name": "python",
   "nbconvert_exporter": "python",
   "pygments_lexer": "ipython3",
   "version": "3.9.19"
  }
 },
 "nbformat": 4,
 "nbformat_minor": 2
}
